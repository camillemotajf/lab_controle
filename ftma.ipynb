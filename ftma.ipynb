{
 "cells": [
  {
   "cell_type": "code",
   "execution_count": 75,
   "metadata": {},
   "outputs": [],
   "source": [
    "import numpy as np\n",
    "import matplotlib.pyplot as plt\n",
    "import pandas as pd\n",
    "from scipy.signal import correlate"
   ]
  },
  {
   "cell_type": "code",
   "execution_count": 76,
   "metadata": {},
   "outputs": [],
   "source": [
    "data_in = pd.read_csv('dados_senoide_1hz.csv')\n",
    "data_in = data_in['tensao'].iloc[300:1400]\n",
    "\n",
    "data_out = pd.read_csv('dados_rpm_1hz.csv')\n",
    "data_out = data_out['rpm'].iloc[300:1400]"
   ]
  },
  {
   "cell_type": "code",
   "execution_count": 77,
   "metadata": {},
   "outputs": [],
   "source": [
    "# Calcula a DFT das senoides\n",
    "entrada = data_in.values\n",
    "saida = data_out.values"
   ]
  },
  {
   "cell_type": "code",
   "execution_count": 78,
   "metadata": {},
   "outputs": [],
   "source": [
    "entrada = entrada / np.sqrt(np.sum(entrada**2))\n",
    "saida = saida / np.sqrt(np.sum(saida**2))"
   ]
  },
  {
   "cell_type": "code",
   "execution_count": 79,
   "metadata": {},
   "outputs": [],
   "source": [
    "# Calcular a correlação cruzada\n",
    "corr = correlate(entrada, saida)\n",
    "deslocamento = np.argmax(corr)"
   ]
  },
  {
   "cell_type": "code",
   "execution_count": 80,
   "metadata": {},
   "outputs": [
    {
     "name": "stdout",
     "output_type": "stream",
     "text": [
      "A defasagem entre as duas senoides é 359.67 graus.\n"
     ]
    }
   ],
   "source": [
    "defasagem = 2 * np.pi * deslocamento / len(entrada)\n",
    "defasagem_graus = defasagem * 180 / np.pi\n",
    "\n",
    "print(f'A defasagem entre as duas senoides é {defasagem_graus:.2f} graus.')"
   ]
  }
 ],
 "metadata": {
  "kernelspec": {
   "display_name": "tf-gpu-py310",
   "language": "python",
   "name": "python3"
  },
  "language_info": {
   "codemirror_mode": {
    "name": "ipython",
    "version": 3
   },
   "file_extension": ".py",
   "mimetype": "text/x-python",
   "name": "python",
   "nbconvert_exporter": "python",
   "pygments_lexer": "ipython3",
   "version": "3.10.13"
  }
 },
 "nbformat": 4,
 "nbformat_minor": 2
}
